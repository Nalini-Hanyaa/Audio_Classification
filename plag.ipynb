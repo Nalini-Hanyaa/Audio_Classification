{
 "cells": [
  {
   "cell_type": "markdown",
   "id": "35fdc286-2a51-4e9e-a1f3-8a80697bdde4",
   "metadata": {},
   "source": [
    "Text Extraction from Audio"
   ]
  },
  {
   "cell_type": "code",
   "execution_count": 1,
   "id": "d3c9b830-07d1-411f-a2f9-5c4328b90d32",
   "metadata": {},
   "outputs": [
    {
     "name": "stdout",
     "output_type": "stream",
     "text": [
      "Requirement already satisfied: SpeechRecognition in c:\\users\\nalinigarikipati\\anaconda3\\lib\\site-packages (3.10.3)\n",
      "Requirement already satisfied: requests>=2.26.0 in c:\\users\\nalinigarikipati\\anaconda3\\lib\\site-packages (from SpeechRecognition) (2.31.0)\n",
      "Requirement already satisfied: typing-extensions in c:\\users\\nalinigarikipati\\anaconda3\\lib\\site-packages (from SpeechRecognition) (4.9.0)\n",
      "Requirement already satisfied: charset-normalizer<4,>=2 in c:\\users\\nalinigarikipati\\anaconda3\\lib\\site-packages (from requests>=2.26.0->SpeechRecognition) (2.0.4)\n",
      "Requirement already satisfied: idna<4,>=2.5 in c:\\users\\nalinigarikipati\\anaconda3\\lib\\site-packages (from requests>=2.26.0->SpeechRecognition) (3.4)\n",
      "Requirement already satisfied: urllib3<3,>=1.21.1 in c:\\users\\nalinigarikipati\\anaconda3\\lib\\site-packages (from requests>=2.26.0->SpeechRecognition) (2.0.7)\n",
      "Requirement already satisfied: certifi>=2017.4.17 in c:\\users\\nalinigarikipati\\anaconda3\\lib\\site-packages (from requests>=2.26.0->SpeechRecognition) (2024.2.2)\n"
     ]
    }
   ],
   "source": [
    "!pip install SpeechRecognition"
   ]
  },
  {
   "cell_type": "code",
   "execution_count": 3,
   "id": "76a90fdd-e77e-4bb0-ab65-0a5431be2fc0",
   "metadata": {},
   "outputs": [
    {
     "name": "stdout",
     "output_type": "stream",
     "text": [
      "Requirement already satisfied: SpeechRecognition in c:\\users\\nalinigarikipati\\anaconda3\\lib\\site-packages (3.10.3)\n",
      "Requirement already satisfied: requests>=2.26.0 in c:\\users\\nalinigarikipati\\anaconda3\\lib\\site-packages (from SpeechRecognition) (2.31.0)\n",
      "Requirement already satisfied: typing-extensions in c:\\users\\nalinigarikipati\\anaconda3\\lib\\site-packages (from SpeechRecognition) (4.9.0)\n",
      "Requirement already satisfied: charset-normalizer<4,>=2 in c:\\users\\nalinigarikipati\\anaconda3\\lib\\site-packages (from requests>=2.26.0->SpeechRecognition) (2.0.4)\n",
      "Requirement already satisfied: idna<4,>=2.5 in c:\\users\\nalinigarikipati\\anaconda3\\lib\\site-packages (from requests>=2.26.0->SpeechRecognition) (3.4)\n",
      "Requirement already satisfied: urllib3<3,>=1.21.1 in c:\\users\\nalinigarikipati\\anaconda3\\lib\\site-packages (from requests>=2.26.0->SpeechRecognition) (2.0.7)\n",
      "Requirement already satisfied: certifi>=2017.4.17 in c:\\users\\nalinigarikipati\\anaconda3\\lib\\site-packages (from requests>=2.26.0->SpeechRecognition) (2024.2.2)\n",
      "Note: you may need to restart the kernel to use updated packages.\n"
     ]
    }
   ],
   "source": [
    "pip install --upgrade SpeechRecognition\n"
   ]
  },
  {
   "cell_type": "code",
   "execution_count": 2,
   "id": "ef9d7418-e786-4a96-b7a6-6b9f916debc9",
   "metadata": {},
   "outputs": [
    {
     "name": "stdout",
     "output_type": "stream",
     "text": [
      "Could not request results from Google Speech Recognition service; recognition request failed: Bad Request\n"
     ]
    }
   ],
   "source": [
    "import speech_recognition as sr\n",
    "from pydub import AudioSegment\n",
    "# Create a Recognizer instance\n",
    "recognizer = sr.Recognizer()\n",
    "\n",
    "# Load the audio file\n",
    "audio_file = r\"D:\\003-Elogios.wav\"\n",
    "# audio_file=r\"D:\\[iSongs.info] 07 - Yedemaina Sakhi.wav\"# Replace \"audio.wav\" with the path to your audio file\n",
    "with sr.AudioFile(audio_file) as source:\n",
    "    # Record the audio file data\n",
    "    audio_data = recognizer.record(source)\n",
    "\n",
    "# Recognize the speech using Google Speech Recognition\n",
    "try:\n",
    "    # Use the recognizer to convert speech to text\n",
    "    text = recognizer.recognize_google(audio_data, language=\"te-IN\")\n",
    "    print(\"Text extracted from audio:\", text)\n",
    "except sr.UnknownValueError:\n",
    "    print(\"Google Speech Recognition could not understand the audio.\")\n",
    "except sr.RequestError as e:\n",
    "    print(\"Could not request results from Google Speech Recognition service; {0}\".format(e))\n"
   ]
  },
  {
   "cell_type": "code",
   "execution_count": 5,
   "id": "5268d9b6-af45-4da3-92fa-d8921a641796",
   "metadata": {},
   "outputs": [
    {
     "name": "stdout",
     "output_type": "stream",
     "text": [
      "Collecting pocketsphinx\n",
      "  Downloading pocketsphinx-5.0.3-cp311-cp311-win_amd64.whl.metadata (6.8 kB)\n",
      "Requirement already satisfied: sounddevice in c:\\users\\nalinigarikipati\\anaconda3\\lib\\site-packages (from pocketsphinx) (0.4.6)\n",
      "Requirement already satisfied: CFFI>=1.0 in c:\\users\\nalinigarikipati\\anaconda3\\lib\\site-packages (from sounddevice->pocketsphinx) (1.16.0)\n",
      "Requirement already satisfied: pycparser in c:\\users\\nalinigarikipati\\anaconda3\\lib\\site-packages (from CFFI>=1.0->sounddevice->pocketsphinx) (2.21)\n",
      "Downloading pocketsphinx-5.0.3-cp311-cp311-win_amd64.whl (29.1 MB)\n",
      "   ---------------------------------------- 0.0/29.1 MB ? eta -:--:--\n",
      "   ---------------------------------------- 0.3/29.1 MB 10.6 MB/s eta 0:00:03\n",
      "   ----- ---------------------------------- 4.0/29.1 MB 50.7 MB/s eta 0:00:01\n",
      "   ----------- ---------------------------- 8.2/29.1 MB 75.4 MB/s eta 0:00:01\n",
      "   ----------------- ---------------------- 12.5/29.1 MB 93.9 MB/s eta 0:00:01\n",
      "   ---------------------- ----------------- 16.4/29.1 MB 110.0 MB/s eta 0:00:01\n",
      "   -------------------------- ------------- 19.5/29.1 MB 93.9 MB/s eta 0:00:01\n",
      "   -------------------------------- ------- 23.4/29.1 MB 93.9 MB/s eta 0:00:01\n",
      "   ---------------------------------------  28.6/29.1 MB 93.9 MB/s eta 0:00:01\n",
      "   ---------------------------------------- 29.1/29.1 MB 81.8 MB/s eta 0:00:00\n",
      "Installing collected packages: pocketsphinx\n",
      "Successfully installed pocketsphinx-5.0.3\n"
     ]
    }
   ],
   "source": [
    "!pip install pocketsphinx\n"
   ]
  },
  {
   "cell_type": "code",
   "execution_count": 6,
   "id": "431f2288-a15e-4620-8e33-56c34c150808",
   "metadata": {},
   "outputs": [
    {
     "name": "stdout",
     "output_type": "stream",
     "text": [
      "Could not perform speech recognition with CMU Sphinx; missing PocketSphinx language data directory: \"C:\\Users\\NaliniGarikipati\\anaconda3\\Lib\\site-packages\\speech_recognition\\pocketsphinx-data\\te-IN\"\n"
     ]
    }
   ],
   "source": [
    "import speech_recognition as sr\n",
    "\n",
    "# Create a Recognizer instance\n",
    "recognizer = sr.Recognizer()\n",
    "\n",
    "# Load the audio file\n",
    "audio_file = r\"D:\\[iSongs.info] 07 - Yedemaina Sakhi.wav\"  # Replace with the path to your Telugu audio file\n",
    "\n",
    "# Use CMU Sphinx for speech recognition\n",
    "with sr.AudioFile(audio_file) as source:\n",
    "    audio_data = recognizer.record(source)  # Record the audio file data\n",
    "\n",
    "# Recognize the speech using CMU Sphinx\n",
    "try:\n",
    "    # Use the recognizer to convert speech to text\n",
    "    text = recognizer.recognize_sphinx(audio_data, language=\"te-IN\")  # Specify Telugu language\n",
    "    print(\"Text extracted from audio:\", text)\n",
    "except sr.UnknownValueError:\n",
    "    print(\"CMU Sphinx could not understand the audio.\")\n",
    "except sr.RequestError as e:\n",
    "    print(\"Could not perform speech recognition with CMU Sphinx; {0}\".format(e))\n"
   ]
  },
  {
   "cell_type": "code",
   "execution_count": 31,
   "id": "921eb6bb-76aa-4ffa-b098-044735f4ad78",
   "metadata": {},
   "outputs": [
    {
     "name": "stdout",
     "output_type": "stream",
     "text": [
      "Converting audio transcripts into text ...\n",
      "hello hello good good very good very good wonderful wonderful a stupid rate fantastic fantastic fantastic well done well done perfect perfect congratulations congratulations best wishes best wishes for I like your work I like your word you are a good work done well done\n"
     ]
    }
   ],
   "source": [
    "#import library\n",
    "import speech_recognition as sr\n",
    "#Initiаlize  reсоgnizer  сlаss  (fоr  reсоgnizing  the  sрeeсh)\n",
    "r = sr.Recognizer()\n",
    "# Reading Audio file as source\n",
    "#  listening  the  аudiо  file  аnd  stоre  in  аudiо_text  vаriаble\n",
    "with sr.AudioFile(r\"D:\\003-Elogios.wav\") as source:\n",
    "    audio_text = r.listen(source)\n",
    "# recoginize_() method will throw a request error if the API is unreachable, hence using exception handling\n",
    "    try:\n",
    "        # using google speech recognition\n",
    "        text = r.recognize_google(audio_text)\n",
    "        print('Converting audio transcripts into text ...')\n",
    "        print(text)\n",
    "    except:\n",
    "         print('Sorry.. run again...')"
   ]
  },
  {
   "cell_type": "markdown",
   "id": "e57192cd-d272-4456-bce7-0b8a41e5c9bd",
   "metadata": {},
   "source": [
    "Two Transcriptions are same are not based on text"
   ]
  },
  {
   "cell_type": "code",
   "execution_count": 2,
   "id": "c4ab4ac9-272b-4749-a112-66110e4fa41d",
   "metadata": {},
   "outputs": [
    {
     "name": "stdout",
     "output_type": "stream",
     "text": [
      "Transcribing audio...\n",
      "Transcribing audio...\n",
      "The transcriptions are the same.\n"
     ]
    }
   ],
   "source": [
    "import speech_recognition as sr\n",
    "\n",
    "def transcribe_audio(audio_file_path):\n",
    "    # Initialize recognizer\n",
    "    recognizer = sr.Recognizer()\n",
    "\n",
    "    # Read audio file\n",
    "    with sr.AudioFile(audio_file_path) as source:\n",
    "        audio_data = recognizer.record(source)\n",
    "\n",
    "    # Perform speech recognition using Google Speech Recognition\n",
    "    try:\n",
    "        print(\"Transcribing audio...\")\n",
    "        text = recognizer.recognize_google(audio_data)\n",
    "        return text\n",
    "    except sr.UnknownValueError:\n",
    "        print(\"Google Speech Recognition could not understand the audio.\")\n",
    "    except sr.RequestError as e:\n",
    "        print(\"Could not request results from Google Speech Recognition service; {0}\".format(e))\n",
    "    return None\n",
    "\n",
    "# Path to the two audio files\n",
    "audio_file_path1 = r\"D:\\012-Regadio.wav\"\n",
    "audio_file_path2 = r\"D:\\012-Regadio.wav\"\n",
    "\n",
    "# Transcribe the first audio file\n",
    "transcription1 = transcribe_audio(audio_file_path1)\n",
    "if transcription1 is None:\n",
    "    print(\"Transcription for audio file 1 failed.\")\n",
    "    exit()\n",
    "\n",
    "# Transcribe the second audio file\n",
    "transcription2 = transcribe_audio(audio_file_path2)\n",
    "if transcription2 is None:\n",
    "    print(\"Transcription for audio file 2 failed.\")\n",
    "    exit()\n",
    "\n",
    "# Compare the transcriptions\n",
    "if transcription1 == transcription2:\n",
    "    print(\"The transcriptions are the same.\")\n",
    "else:\n",
    "    print(\"The transcriptions are different.\")\n"
   ]
  },
  {
   "cell_type": "markdown",
   "id": "f7f2947b-22e6-4bef-abb5-87c85b69ed3b",
   "metadata": {},
   "source": [
    "checking plagiarism"
   ]
  },
  {
   "cell_type": "code",
   "execution_count": null,
   "id": "0afa9dfc-286c-43d8-9adf-879fea76f274",
   "metadata": {},
   "outputs": [],
   "source": [
    "!pip install python-Levenshtein"
   ]
  },
  {
   "cell_type": "code",
   "execution_count": 8,
   "id": "4fa183f4-2550-4a74-9300-b99016503bd5",
   "metadata": {},
   "outputs": [
    {
     "name": "stdout",
     "output_type": "stream",
     "text": [
      "Transcribing audio...\n",
      "Transcribing audio...\n",
      "Percentage of plagiarism between transcriptions: 23.50877192982456\n"
     ]
    }
   ],
   "source": [
    "import speech_recognition as sr\n",
    "from Levenshtein import distance\n",
    "\n",
    "def transcribe_audio(audio_file_path):\n",
    "    # Initialize recognizer\n",
    "    recognizer = sr.Recognizer()\n",
    "\n",
    "    # Read audio file\n",
    "    with sr.AudioFile(audio_file_path) as source:\n",
    "        audio_data = recognizer.record(source)\n",
    "\n",
    "    # Perform speech recognition using Google Speech Recognition\n",
    "    try:\n",
    "        print(\"Transcribing audio...\")\n",
    "        text = recognizer.recognize_google(audio_data)\n",
    "        return text\n",
    "    except sr.UnknownValueError:\n",
    "        print(\"Google Speech Recognition could not understand the audio.\")\n",
    "    except sr.RequestError as e:\n",
    "        print(\"Could not request results from Google Speech Recognition service; {0}\".format(e))\n",
    "    return None\n",
    "\n",
    "# Path to the two audio files\n",
    "audio_file_path1 = r\"D:\\012-Regadio.wav\"\n",
    "audio_file_path2 = r\"D:\\003-Elogios.wav\"\n",
    "\n",
    "# Transcribe the first audio file\n",
    "transcription1 = transcribe_audio(audio_file_path1)\n",
    "if transcription1 is None:\n",
    "    print(\"Transcription for audio file 1 failed.\")\n",
    "    exit()\n",
    "\n",
    "# Transcribe the second audio file\n",
    "transcription2 = transcribe_audio(audio_file_path2)\n",
    "if transcription2 is None:\n",
    "    print(\"Transcription for audio file 2 failed.\")\n",
    "    exit()\n",
    "\n",
    "# Calculate Levenshtein distance between transcriptions\n",
    "levenshtein_distance = distance(transcription1, transcription2)\n",
    "\n",
    "# Calculate the length of the longer transcription\n",
    "max_length = max(len(transcription1), len(transcription2))\n",
    "\n",
    "# Calculate percentage of plagiarism\n",
    "plagiarism_percentage = ((max_length - levenshtein_distance) / max_length) * 100\n",
    "\n",
    "# Print plagiarism percentage\n",
    "print(\"Percentage of plagiarism between transcriptions:\", plagiarism_percentage)\n"
   ]
  },
  {
   "cell_type": "markdown",
   "id": "972e7f69-ab80-49fe-811a-a1f076ea35aa",
   "metadata": {},
   "source": [
    "Checking plagiarism for songs"
   ]
  },
  {
   "cell_type": "code",
   "execution_count": 1,
   "id": "09a595b2-fd0c-492e-9ddf-a978e4e0f16f",
   "metadata": {},
   "outputs": [
    {
     "name": "stdout",
     "output_type": "stream",
     "text": [
      "Transcribing audio segment...\n",
      "Transcribing audio segment...\n",
      "Transcribing audio segment...\n",
      "Google Speech Recognition could not understand the audio segment.\n",
      "Transcribing audio segment...\n",
      "Google Speech Recognition could not understand the audio segment.\n",
      "Transcribing audio segment...\n",
      "Transcribing audio segment...\n",
      "Google Speech Recognition could not understand the audio segment.\n",
      "Percentage of plagiarism between transcriptions: 17.560975609756095\n"
     ]
    }
   ],
   "source": [
    "import speech_recognition as sr\n",
    "from Levenshtein import distance\n",
    "\n",
    "def transcribe_audio(audio_file_path):\n",
    "    # Initialize recognizer\n",
    "    recognizer = sr.Recognizer()\n",
    "\n",
    "    # Read audio file\n",
    "    with sr.AudioFile(audio_file_path) as source:\n",
    "        # Set duration for each segment (in seconds)\n",
    "        segment_duration = 60  # 1 minute\n",
    "        audio_duration = source.DURATION\n",
    "\n",
    "        # Transcribe each segment\n",
    "        transcriptions = []\n",
    "        for start in range(0, int(audio_duration), segment_duration):\n",
    "            end = min(start + segment_duration, int(audio_duration))\n",
    "            audio_data = recognizer.record(source, offset=start, duration=end - start)\n",
    "            try:\n",
    "                print(\"Transcribing audio segment...\")\n",
    "                text = recognizer.recognize_google(audio_data,language=\"te-IN\")\n",
    "                transcriptions.append(text)\n",
    "            except sr.UnknownValueError:\n",
    "                print(\"Google Speech Recognition could not understand the audio segment.\")\n",
    "            except sr.RequestError as e:\n",
    "                print(\"Could not request results from Google Speech Recognition service; {0}\".format(e))\n",
    "        return \" \".join(transcriptions)\n",
    "\n",
    "# Path to the two audio files\n",
    "audio_file_path1 = r\"D:\\[iSongs.info] 07 - Yedemaina Sakhi.wav\"\n",
    "audio_file_path2 = r\"D:\\003-Elogios.wav\"\n",
    "\n",
    "# Transcribe the first audio file\n",
    "transcription1 = transcribe_audio(audio_file_path1)\n",
    "if transcription1 is None:\n",
    "    print(\"Transcription for audio file 1 failed.\")\n",
    "    exit()\n",
    "\n",
    "# Transcribe the second audio file\n",
    "transcription2 = transcribe_audio(audio_file_path2)\n",
    "if transcription2 is None:\n",
    "    print(\"Transcription for audio file 2 failed.\")\n",
    "    exit()\n",
    "\n",
    "# Calculate Levenshtein distance between transcriptions\n",
    "levenshtein_distance = distance(transcription1, transcription2)\n",
    "\n",
    "# Calculate the length of the longer transcription\n",
    "max_length = max(len(transcription1), len(transcription2))\n",
    "\n",
    "# Calculate percentage of plagiarism\n",
    "plagiarism_percentage = ((max_length - levenshtein_distance) / max_length) * 100\n",
    "\n",
    "# Print plagiarism percentage\n",
    "print(\"Percentage of plagiarism between transcriptions:\", plagiarism_percentage)\n"
   ]
  },
  {
   "cell_type": "code",
   "execution_count": null,
   "id": "27264cc3-5971-4e50-a45a-cd01dcdb63c4",
   "metadata": {},
   "outputs": [],
   "source": []
  }
 ],
 "metadata": {
  "kernelspec": {
   "display_name": "Python 3 (ipykernel)",
   "language": "python",
   "name": "python3"
  },
  "language_info": {
   "codemirror_mode": {
    "name": "ipython",
    "version": 3
   },
   "file_extension": ".py",
   "mimetype": "text/x-python",
   "name": "python",
   "nbconvert_exporter": "python",
   "pygments_lexer": "ipython3",
   "version": "3.11.7"
  }
 },
 "nbformat": 4,
 "nbformat_minor": 5
}
